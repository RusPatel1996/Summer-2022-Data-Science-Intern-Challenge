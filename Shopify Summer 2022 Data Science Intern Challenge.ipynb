{
  "cells":[
    {
      "cell_type":"markdown",
      "source":[
        "### All our imports"
      ],
      "attachments":{
        
      },
      "metadata":{
        "datalore":{
          "sheet_delimiter":false
        }
      }
    },
    {
      "cell_type":"code",
      "source":[
        "import pandas as pd"
      ],
      "execution_count":15,
      "outputs":[
        
      ],
      "metadata":{
        "datalore":{
          "sheet_delimiter":false
        }
      }
    },
    {
      "cell_type":"markdown",
      "source":[
        "### Let's see our raw data"
      ],
      "attachments":{
        
      },
      "metadata":{
        "datalore":{
          "sheet_delimiter":false
        }
      }
    },
    {
      "cell_type":"code",
      "source":[
        "df = pd.DataFrame(pd.read_csv('2019 Winter Data Science Intern Challenge Data Set.csv'))\n",
        "df"
      ],
      "execution_count":16,
      "outputs":[
        {
          "data":{
            "text\/html":[
              "<div>\n",
              "<style scoped>\n",
              "    .dataframe tbody tr th:only-of-type {\n",
              "        vertical-align: middle;\n",
              "    }\n",
              "\n",
              "    .dataframe tbody tr th {\n",
              "        vertical-align: top;\n",
              "    }\n",
              "\n",
              "    .dataframe thead th {\n",
              "        text-align: right;\n",
              "    }\n",
              "<\/style>\n",
              "<table border=\"1\" class=\"dataframe\">\n",
              "  <thead>\n",
              "    <tr style=\"text-align: right;\">\n",
              "      <th><\/th>\n",
              "      <th>order_id<\/th>\n",
              "      <th>shop_id<\/th>\n",
              "      <th>user_id<\/th>\n",
              "      <th>order_amount<\/th>\n",
              "      <th>total_items<\/th>\n",
              "      <th>payment_method<\/th>\n",
              "      <th>created_at<\/th>\n",
              "    <\/tr>\n",
              "  <\/thead>\n",
              "  <tbody>\n",
              "    <tr>\n",
              "      <th>0<\/th>\n",
              "      <td>1<\/td>\n",
              "      <td>53<\/td>\n",
              "      <td>746<\/td>\n",
              "      <td>224<\/td>\n",
              "      <td>2<\/td>\n",
              "      <td>cash<\/td>\n",
              "      <td>2017-03-13 12:36:56<\/td>\n",
              "    <\/tr>\n",
              "    <tr>\n",
              "      <th>1<\/th>\n",
              "      <td>2<\/td>\n",
              "      <td>92<\/td>\n",
              "      <td>925<\/td>\n",
              "      <td>90<\/td>\n",
              "      <td>1<\/td>\n",
              "      <td>cash<\/td>\n",
              "      <td>2017-03-03 17:38:52<\/td>\n",
              "    <\/tr>\n",
              "    <tr>\n",
              "      <th>2<\/th>\n",
              "      <td>3<\/td>\n",
              "      <td>44<\/td>\n",
              "      <td>861<\/td>\n",
              "      <td>144<\/td>\n",
              "      <td>1<\/td>\n",
              "      <td>cash<\/td>\n",
              "      <td>2017-03-14 4:23:56<\/td>\n",
              "    <\/tr>\n",
              "    <tr>\n",
              "      <th>3<\/th>\n",
              "      <td>4<\/td>\n",
              "      <td>18<\/td>\n",
              "      <td>935<\/td>\n",
              "      <td>156<\/td>\n",
              "      <td>1<\/td>\n",
              "      <td>credit_card<\/td>\n",
              "      <td>2017-03-26 12:43:37<\/td>\n",
              "    <\/tr>\n",
              "    <tr>\n",
              "      <th>4<\/th>\n",
              "      <td>5<\/td>\n",
              "      <td>18<\/td>\n",
              "      <td>883<\/td>\n",
              "      <td>156<\/td>\n",
              "      <td>1<\/td>\n",
              "      <td>credit_card<\/td>\n",
              "      <td>2017-03-01 4:35:11<\/td>\n",
              "    <\/tr>\n",
              "    <tr>\n",
              "      <th>...<\/th>\n",
              "      <td>...<\/td>\n",
              "      <td>...<\/td>\n",
              "      <td>...<\/td>\n",
              "      <td>...<\/td>\n",
              "      <td>...<\/td>\n",
              "      <td>...<\/td>\n",
              "      <td>...<\/td>\n",
              "    <\/tr>\n",
              "    <tr>\n",
              "      <th>4995<\/th>\n",
              "      <td>4996<\/td>\n",
              "      <td>73<\/td>\n",
              "      <td>993<\/td>\n",
              "      <td>330<\/td>\n",
              "      <td>2<\/td>\n",
              "      <td>debit<\/td>\n",
              "      <td>2017-03-30 13:47:17<\/td>\n",
              "    <\/tr>\n",
              "    <tr>\n",
              "      <th>4996<\/th>\n",
              "      <td>4997<\/td>\n",
              "      <td>48<\/td>\n",
              "      <td>789<\/td>\n",
              "      <td>234<\/td>\n",
              "      <td>2<\/td>\n",
              "      <td>cash<\/td>\n",
              "      <td>2017-03-16 20:36:16<\/td>\n",
              "    <\/tr>\n",
              "    <tr>\n",
              "      <th>4997<\/th>\n",
              "      <td>4998<\/td>\n",
              "      <td>56<\/td>\n",
              "      <td>867<\/td>\n",
              "      <td>351<\/td>\n",
              "      <td>3<\/td>\n",
              "      <td>cash<\/td>\n",
              "      <td>2017-03-19 5:42:42<\/td>\n",
              "    <\/tr>\n",
              "    <tr>\n",
              "      <th>4998<\/th>\n",
              "      <td>4999<\/td>\n",
              "      <td>60<\/td>\n",
              "      <td>825<\/td>\n",
              "      <td>354<\/td>\n",
              "      <td>2<\/td>\n",
              "      <td>credit_card<\/td>\n",
              "      <td>2017-03-16 14:51:18<\/td>\n",
              "    <\/tr>\n",
              "    <tr>\n",
              "      <th>4999<\/th>\n",
              "      <td>5000<\/td>\n",
              "      <td>44<\/td>\n",
              "      <td>734<\/td>\n",
              "      <td>288<\/td>\n",
              "      <td>2<\/td>\n",
              "      <td>debit<\/td>\n",
              "      <td>2017-03-18 15:48:18<\/td>\n",
              "    <\/tr>\n",
              "  <\/tbody>\n",
              "<\/table>\n",
              "<p>5000 rows × 7 columns<\/p>\n",
              "<\/div>"
            ]
          },
          "metadata":{
            
          },
          "output_type":"display_data"
        }
      ],
      "metadata":{
        "datalore":{
          "sheet_delimiter":false
        }
      }
    },
    {
      "cell_type":"markdown",
      "source":[
        "### Naive AOV in the problem statement"
      ],
      "attachments":{
        
      },
      "metadata":{
        "datalore":{
          "sheet_delimiter":false
        }
      }
    },
    {
      "cell_type":"code",
      "source":[
        "total_revenue = df['order_amount'].sum()\n",
        "number_of_orders = len(df)\n",
        "AOV = round(total_revenue \/ number_of_orders, 2)\n",
        "print(\"Average Order Value: \", AOV)"
      ],
      "execution_count":17,
      "outputs":[
        {
          "name":"stdout",
          "text":[
            "Average Order Value:  3145.13\n"
          ],
          "output_type":"stream"
        }
      ],
      "metadata":{
        "datalore":{
          "sheet_delimiter":false
        }
      }
    },
    {
      "cell_type":"markdown",
      "source":[
        "It seems as though the AOV to be very sensitive to rows with high value of order amount."
      ],
      "attachments":{
        
      },
      "metadata":{
        "datalore":{
          "sheet_delimiter":false
        }
      }
    },
    {
      "cell_type":"markdown",
      "source":[
        "### Check if there are any null values present"
      ],
      "attachments":{
        
      },
      "metadata":{
        "datalore":{
          "sheet_delimiter":false
        }
      }
    },
    {
      "cell_type":"code",
      "source":[
        "df.isnull().any(axis=1).sum()"
      ],
      "execution_count":18,
      "outputs":[
        {
          "data":{
            "text\/plain":[
              "0"
            ]
          },
          "metadata":{
            
          },
          "output_type":"display_data"
        }
      ],
      "metadata":{
        "datalore":{
          "sheet_delimiter":false
        }
      }
    },
    {
      "cell_type":"markdown",
      "source":[
        "No null values, we can move on, replicated values would be expected."
      ],
      "attachments":{
        
      },
      "metadata":{
        "datalore":{
          "sheet_delimiter":false
        }
      }
    },
    {
      "cell_type":"markdown",
      "source":[
        "### Let's make a chart of the amount paid per order by the total amount of items ordered."
      ],
      "attachments":{
        
      },
      "metadata":{
        "datalore":{
          "sheet_delimiter":false
        }
      }
    },
    {
      "cell_type":"code",
      "source":[
        "df.plot.scatter(x='total_items', y='order_amount', s=(df['order_amount'] \/ df['total_items']) * 0.002)"
      ],
      "execution_count":19,
      "outputs":[
        {
          "data":{
            "text\/plain":[
              "<AxesSubplot:xlabel='total_items', ylabel='order_amount'>"
            ],
            "image\/png":"[encoded data removed]"
          },
          "metadata":{
            "image\/png":{
              
            }
          },
          "output_type":"display_data"
        }
      ],
      "metadata":{
        "datalore":{
          "sheet_delimiter":false
        }
      }
    },
    {
      "cell_type":"markdown",
      "source":[
        "Let's zoom in a bit"
      ],
      "attachments":{
        
      },
      "metadata":{
        "datalore":{
          "sheet_delimiter":false
        }
      }
    },
    {
      "cell_type":"code",
      "source":[
        "temp_df = df.drop(df[df['order_amount'] > 600000].index)\n",
        "temp_df.plot.scatter(x='total_items', y='order_amount', s=(temp_df['order_amount'] \/ temp_df['total_items']) * 0.01)"
      ],
      "execution_count":20,
      "outputs":[
        {
          "data":{
            "text\/plain":[
              "<AxesSubplot:xlabel='total_items', ylabel='order_amount'>"
            ],
            "image\/png":"[encoded data removed]"
          },
          "metadata":{
            "image\/png":{
              
            }
          },
          "output_type":"display_data"
        }
      ],
      "metadata":{
        "datalore":{
          "sheet_delimiter":false
        }
      }
    },
    {
      "cell_type":"markdown",
      "source":[
        "As you can see from the charts, some sneakers are being charged very highly, for example, one sneaker is being charged close to \\$25,000.\n",
        "\n",
        "Let's check out what's happening"
      ],
      "attachments":{
        
      },
      "metadata":{
        "datalore":{
          "sheet_delimiter":false
        }
      }
    },
    {
      "cell_type":"code",
      "source":[
        "df[df['order_amount'] > 20000]"
      ],
      "execution_count":21,
      "outputs":[
        {
          "data":{
            "text\/html":[
              "<div>\n",
              "<style scoped>\n",
              "    .dataframe tbody tr th:only-of-type {\n",
              "        vertical-align: middle;\n",
              "    }\n",
              "\n",
              "    .dataframe tbody tr th {\n",
              "        vertical-align: top;\n",
              "    }\n",
              "\n",
              "    .dataframe thead th {\n",
              "        text-align: right;\n",
              "    }\n",
              "<\/style>\n",
              "<table border=\"1\" class=\"dataframe\">\n",
              "  <thead>\n",
              "    <tr style=\"text-align: right;\">\n",
              "      <th><\/th>\n",
              "      <th>order_id<\/th>\n",
              "      <th>shop_id<\/th>\n",
              "      <th>user_id<\/th>\n",
              "      <th>order_amount<\/th>\n",
              "      <th>total_items<\/th>\n",
              "      <th>payment_method<\/th>\n",
              "      <th>created_at<\/th>\n",
              "    <\/tr>\n",
              "  <\/thead>\n",
              "  <tbody>\n",
              "    <tr>\n",
              "      <th>15<\/th>\n",
              "      <td>16<\/td>\n",
              "      <td>42<\/td>\n",
              "      <td>607<\/td>\n",
              "      <td>704000<\/td>\n",
              "      <td>2000<\/td>\n",
              "      <td>credit_card<\/td>\n",
              "      <td>2017-03-07 4:00:00<\/td>\n",
              "    <\/tr>\n",
              "    <tr>\n",
              "      <th>60<\/th>\n",
              "      <td>61<\/td>\n",
              "      <td>42<\/td>\n",
              "      <td>607<\/td>\n",
              "      <td>704000<\/td>\n",
              "      <td>2000<\/td>\n",
              "      <td>credit_card<\/td>\n",
              "      <td>2017-03-04 4:00:00<\/td>\n",
              "    <\/tr>\n",
              "    <tr>\n",
              "      <th>160<\/th>\n",
              "      <td>161<\/td>\n",
              "      <td>78<\/td>\n",
              "      <td>990<\/td>\n",
              "      <td>25725<\/td>\n",
              "      <td>1<\/td>\n",
              "      <td>credit_card<\/td>\n",
              "      <td>2017-03-12 5:56:57<\/td>\n",
              "    <\/tr>\n",
              "    <tr>\n",
              "      <th>490<\/th>\n",
              "      <td>491<\/td>\n",
              "      <td>78<\/td>\n",
              "      <td>936<\/td>\n",
              "      <td>51450<\/td>\n",
              "      <td>2<\/td>\n",
              "      <td>debit<\/td>\n",
              "      <td>2017-03-26 17:08:19<\/td>\n",
              "    <\/tr>\n",
              "    <tr>\n",
              "      <th>493<\/th>\n",
              "      <td>494<\/td>\n",
              "      <td>78<\/td>\n",
              "      <td>983<\/td>\n",
              "      <td>51450<\/td>\n",
              "      <td>2<\/td>\n",
              "      <td>cash<\/td>\n",
              "      <td>2017-03-16 21:39:35<\/td>\n",
              "    <\/tr>\n",
              "    <tr>\n",
              "      <th>...<\/th>\n",
              "      <td>...<\/td>\n",
              "      <td>...<\/td>\n",
              "      <td>...<\/td>\n",
              "      <td>...<\/td>\n",
              "      <td>...<\/td>\n",
              "      <td>...<\/td>\n",
              "      <td>...<\/td>\n",
              "    <\/tr>\n",
              "    <tr>\n",
              "      <th>4646<\/th>\n",
              "      <td>4647<\/td>\n",
              "      <td>42<\/td>\n",
              "      <td>607<\/td>\n",
              "      <td>704000<\/td>\n",
              "      <td>2000<\/td>\n",
              "      <td>credit_card<\/td>\n",
              "      <td>2017-03-02 4:00:00<\/td>\n",
              "    <\/tr>\n",
              "    <tr>\n",
              "      <th>4715<\/th>\n",
              "      <td>4716<\/td>\n",
              "      <td>78<\/td>\n",
              "      <td>818<\/td>\n",
              "      <td>77175<\/td>\n",
              "      <td>3<\/td>\n",
              "      <td>debit<\/td>\n",
              "      <td>2017-03-05 5:10:44<\/td>\n",
              "    <\/tr>\n",
              "    <tr>\n",
              "      <th>4868<\/th>\n",
              "      <td>4869<\/td>\n",
              "      <td>42<\/td>\n",
              "      <td>607<\/td>\n",
              "      <td>704000<\/td>\n",
              "      <td>2000<\/td>\n",
              "      <td>credit_card<\/td>\n",
              "      <td>2017-03-22 4:00:00<\/td>\n",
              "    <\/tr>\n",
              "    <tr>\n",
              "      <th>4882<\/th>\n",
              "      <td>4883<\/td>\n",
              "      <td>42<\/td>\n",
              "      <td>607<\/td>\n",
              "      <td>704000<\/td>\n",
              "      <td>2000<\/td>\n",
              "      <td>credit_card<\/td>\n",
              "      <td>2017-03-25 4:00:00<\/td>\n",
              "    <\/tr>\n",
              "    <tr>\n",
              "      <th>4918<\/th>\n",
              "      <td>4919<\/td>\n",
              "      <td>78<\/td>\n",
              "      <td>823<\/td>\n",
              "      <td>25725<\/td>\n",
              "      <td>1<\/td>\n",
              "      <td>cash<\/td>\n",
              "      <td>2017-03-15 13:26:46<\/td>\n",
              "    <\/tr>\n",
              "  <\/tbody>\n",
              "<\/table>\n",
              "<p>63 rows × 7 columns<\/p>\n",
              "<\/div>"
            ]
          },
          "metadata":{
            
          },
          "output_type":"display_data"
        }
      ],
      "metadata":{
        "datalore":{
          "sheet_delimiter":false
        }
      }
    },
    {
      "cell_type":"markdown",
      "source":[
        "We can see here that sneakers in some orders have price of \\\\$25,725 per sneaker, we can also notice a very large order of sneakers (2000 sneakers) worth \\\\$352 per sneaker. All of these large order_amount orders are causing the AOV value to be extremely high."
      ],
      "attachments":{
        
      },
      "metadata":{
        "datalore":{
          "sheet_delimiter":false
        }
      }
    },
    {
      "cell_type":"markdown",
      "source":[
        "### So what would be a better way to evaluate this data?\n",
        "From what we have seen it seems like most of the outliers lie within \\\\$20,000 and \\\\$700,000. The orders over \\\\$700,000 are valid since those orders are selling high number of sneakers at a high but fair price. So if we can ignore the outliers then our data would provide better metrics, so let's recalculate our AOV."
      ],
      "attachments":{
        
      },
      "metadata":{
        "datalore":{
          "sheet_delimiter":false
        }
      }
    },
    {
      "cell_type":"code",
      "source":[
        "temp_df = df[(df['order_amount'] <= 20000) | (df['order_amount'] >= 700000)]\n",
        "total_revenue = temp_df['order_amount'].sum()\n",
        "number_of_orders = len(temp_df)\n",
        "AOV = round(total_revenue \/ number_of_orders, 2)\n",
        "print(\"Average Order Value: \", AOV)"
      ],
      "execution_count":22,
      "outputs":[
        {
          "name":"stdout",
          "text":[
            "Average Order Value:  2717.37\n"
          ],
          "output_type":"stream"
        }
      ],
      "metadata":{
        "datalore":{
          "sheet_delimiter":false
        }
      }
    },
    {
      "cell_type":"markdown",
      "source":[
        "Hmmm it's still too high as the few \\\\$700,000+ orders are heavily affecting the AOV. Let's try ignoring these orders as well."
      ],
      "attachments":{
        
      },
      "metadata":{
        "datalore":{
          "sheet_delimiter":false
        }
      }
    },
    {
      "cell_type":"code",
      "source":[
        "temp_df = df[df['order_amount'] <= 20000]\n",
        "total_revenue = temp_df['order_amount'].sum()\n",
        "number_of_orders = len(temp_df)\n",
        "AOV = round(total_revenue \/ number_of_orders, 2)\n",
        "print(\"Average Order Value: \", AOV)"
      ],
      "execution_count":23,
      "outputs":[
        {
          "name":"stdout",
          "text":[
            "Average Order Value:  302.58\n"
          ],
          "output_type":"stream"
        }
      ],
      "metadata":{
        "datalore":{
          "sheet_delimiter":false
        }
      }
    },
    {
      "cell_type":"markdown",
      "source":[
        "There we go! Much better than all our previous values, but since it doesn't utilize all the valid data rows, we will not report this AOV."
      ],
      "attachments":{
        
      },
      "metadata":{
        "datalore":{
          "sheet_delimiter":false
        }
      }
    },
    {
      "cell_type":"markdown",
      "source":[
        "\n",
        "### Metrics to report for this dataset\n",
        "Some other useful metrics we can report alongside AOV for this dataset are: Average Revenue Per User, and Average Revenue Per Store.\n",
        "\n",
        "#### Average Revenue Per User:"
      ],
      "attachments":{
        
      },
      "metadata":{
        "datalore":{
          "sheet_delimiter":false
        }
      }
    },
    {
      "cell_type":"code",
      "source":[
        "user_agg = df[(df['order_amount'] <= 20000) | (df['order_amount'] >= 700000)]\n",
        "user_agg = user_agg[['user_id', 'order_amount']].copy()\n",
        "user_agg = user_agg.groupby('user_id', as_index=False).sum()\n",
        "user_agg"
      ],
      "execution_count":24,
      "outputs":[
        {
          "data":{
            "text\/html":[
              "<div>\n",
              "<style scoped>\n",
              "    .dataframe tbody tr th:only-of-type {\n",
              "        vertical-align: middle;\n",
              "    }\n",
              "\n",
              "    .dataframe tbody tr th {\n",
              "        vertical-align: top;\n",
              "    }\n",
              "\n",
              "    .dataframe thead th {\n",
              "        text-align: right;\n",
              "    }\n",
              "<\/style>\n",
              "<table border=\"1\" class=\"dataframe\">\n",
              "  <thead>\n",
              "    <tr style=\"text-align: right;\">\n",
              "      <th><\/th>\n",
              "      <th>user_id<\/th>\n",
              "      <th>order_amount<\/th>\n",
              "    <\/tr>\n",
              "  <\/thead>\n",
              "  <tbody>\n",
              "    <tr>\n",
              "      <th>0<\/th>\n",
              "      <td>607<\/td>\n",
              "      <td>11968000<\/td>\n",
              "    <\/tr>\n",
              "    <tr>\n",
              "      <th>1<\/th>\n",
              "      <td>700<\/td>\n",
              "      <td>4790<\/td>\n",
              "    <\/tr>\n",
              "    <tr>\n",
              "      <th>2<\/th>\n",
              "      <td>701<\/td>\n",
              "      <td>5162<\/td>\n",
              "    <\/tr>\n",
              "    <tr>\n",
              "      <th>3<\/th>\n",
              "      <td>702<\/td>\n",
              "      <td>5286<\/td>\n",
              "    <\/tr>\n",
              "    <tr>\n",
              "      <th>4<\/th>\n",
              "      <td>703<\/td>\n",
              "      <td>6091<\/td>\n",
              "    <\/tr>\n",
              "    <tr>\n",
              "      <th>...<\/th>\n",
              "      <td>...<\/td>\n",
              "      <td>...<\/td>\n",
              "    <\/tr>\n",
              "    <tr>\n",
              "      <th>296<\/th>\n",
              "      <td>995<\/td>\n",
              "      <td>5316<\/td>\n",
              "    <\/tr>\n",
              "    <tr>\n",
              "      <th>297<\/th>\n",
              "      <td>996<\/td>\n",
              "      <td>5312<\/td>\n",
              "    <\/tr>\n",
              "    <tr>\n",
              "      <th>298<\/th>\n",
              "      <td>997<\/td>\n",
              "      <td>3511<\/td>\n",
              "    <\/tr>\n",
              "    <tr>\n",
              "      <th>299<\/th>\n",
              "      <td>998<\/td>\n",
              "      <td>2620<\/td>\n",
              "    <\/tr>\n",
              "    <tr>\n",
              "      <th>300<\/th>\n",
              "      <td>999<\/td>\n",
              "      <td>7195<\/td>\n",
              "    <\/tr>\n",
              "  <\/tbody>\n",
              "<\/table>\n",
              "<p>301 rows × 2 columns<\/p>\n",
              "<\/div>"
            ]
          },
          "metadata":{
            
          },
          "output_type":"display_data"
        }
      ],
      "metadata":{
        "datalore":{
          "sheet_delimiter":false
        }
      }
    },
    {
      "cell_type":"code",
      "source":[
        "print(\"Average Revenue Per User: \", round(user_agg['order_amount'].sum() \/ len(user_agg), 2))\n",
        "max_row = user_agg.iloc[user_agg['order_amount'].idxmax()]\n",
        "print(\"Highest Earning Shop:\\n\", \"User id:\", max_row['user_id'], \", Order amount:\", max_row['order_amount'])"
      ],
      "execution_count":25,
      "outputs":[
        {
          "name":"stdout",
          "text":[
            "Average Revenue Per User:  44723.72\n",
            "Highest Earning Shop:\n",
            " User id: 607 , Order amount: 11968000\n"
          ],
          "output_type":"stream"
        }
      ],
      "metadata":{
        "datalore":{
          "sheet_delimiter":false
        }
      }
    },
    {
      "cell_type":"markdown",
      "source":[
        "#### Average Revenue Per Shop:"
      ],
      "attachments":{
        
      },
      "metadata":{
        "datalore":{
          "sheet_delimiter":false
        }
      }
    },
    {
      "cell_type":"code",
      "source":[
        "shop_agg = df[(df['order_amount'] <= 20000) | (df['order_amount'] >= 700000)]\n",
        "shop_agg = shop_agg[['shop_id', 'order_amount']].copy()\n",
        "shop_agg = shop_agg.groupby('shop_id', as_index=False).sum()\n",
        "shop_agg"
      ],
      "execution_count":26,
      "outputs":[
        {
          "data":{
            "text\/html":[
              "<div>\n",
              "<style scoped>\n",
              "    .dataframe tbody tr th:only-of-type {\n",
              "        vertical-align: middle;\n",
              "    }\n",
              "\n",
              "    .dataframe tbody tr th {\n",
              "        vertical-align: top;\n",
              "    }\n",
              "\n",
              "    .dataframe thead th {\n",
              "        text-align: right;\n",
              "    }\n",
              "<\/style>\n",
              "<table border=\"1\" class=\"dataframe\">\n",
              "  <thead>\n",
              "    <tr style=\"text-align: right;\">\n",
              "      <th><\/th>\n",
              "      <th>shop_id<\/th>\n",
              "      <th>order_amount<\/th>\n",
              "    <\/tr>\n",
              "  <\/thead>\n",
              "  <tbody>\n",
              "    <tr>\n",
              "      <th>0<\/th>\n",
              "      <td>1<\/td>\n",
              "      <td>13588<\/td>\n",
              "    <\/tr>\n",
              "    <tr>\n",
              "      <th>1<\/th>\n",
              "      <td>2<\/td>\n",
              "      <td>9588<\/td>\n",
              "    <\/tr>\n",
              "    <tr>\n",
              "      <th>2<\/th>\n",
              "      <td>3<\/td>\n",
              "      <td>14652<\/td>\n",
              "    <\/tr>\n",
              "    <tr>\n",
              "      <th>3<\/th>\n",
              "      <td>4<\/td>\n",
              "      <td>13184<\/td>\n",
              "    <\/tr>\n",
              "    <tr>\n",
              "      <th>4<\/th>\n",
              "      <td>5<\/td>\n",
              "      <td>13064<\/td>\n",
              "    <\/tr>\n",
              "    <tr>\n",
              "      <th>...<\/th>\n",
              "      <td>...<\/td>\n",
              "      <td>...<\/td>\n",
              "    <\/tr>\n",
              "    <tr>\n",
              "      <th>94<\/th>\n",
              "      <td>96<\/td>\n",
              "      <td>16830<\/td>\n",
              "    <\/tr>\n",
              "    <tr>\n",
              "      <th>95<\/th>\n",
              "      <td>97<\/td>\n",
              "      <td>15552<\/td>\n",
              "    <\/tr>\n",
              "    <tr>\n",
              "      <th>96<\/th>\n",
              "      <td>98<\/td>\n",
              "      <td>14231<\/td>\n",
              "    <\/tr>\n",
              "    <tr>\n",
              "      <th>97<\/th>\n",
              "      <td>99<\/td>\n",
              "      <td>18330<\/td>\n",
              "    <\/tr>\n",
              "    <tr>\n",
              "      <th>98<\/th>\n",
              "      <td>100<\/td>\n",
              "      <td>8547<\/td>\n",
              "    <\/tr>\n",
              "  <\/tbody>\n",
              "<\/table>\n",
              "<p>99 rows × 2 columns<\/p>\n",
              "<\/div>"
            ]
          },
          "metadata":{
            
          },
          "output_type":"display_data"
        }
      ],
      "metadata":{
        "datalore":{
          "sheet_delimiter":false
        }
      }
    },
    {
      "cell_type":"code",
      "source":[
        "print(\"Average Revenue Per Shop: \", round(shop_agg['order_amount'].sum() \/ len(shop_agg), 2))\n",
        "max_row = shop_agg.iloc[shop_agg['order_amount'].idxmax()]\n",
        "print(\"Highest Earning Shop:\\n\", \"Shop id:\", max_row['shop_id'], \", Order amount:\", max_row['order_amount'])"
      ],
      "execution_count":27,
      "outputs":[
        {
          "name":"stdout",
          "text":[
            "Average Revenue Per Shop:  135978.18\n",
            "Highest Earning Shop:\n",
            " Shop id: 42 , Order amount: 11990176\n"
          ],
          "output_type":"stream"
        }
      ],
      "metadata":{
        "datalore":{
          "sheet_delimiter":false
        }
      }
    },
    {
      "cell_type":"markdown",
      "source":[
        "## Values to Report\n",
        "Average Order Value: \\\\$2,717.37 <br>\n",
        "Average Revenue Per User: \\\\$44,723.72 <br>\n",
        "Average Revenue Per Shop: \\\\$135,978.18\n",
        "\n",
        "Highest Earning Shop ID: 607 <br>\n",
        "Highest Earning User ID: 42\n",
        "\n",
        "Not the best metrics but rather useful when we're not sure what we're looking for. <br>"
      ],
      "attachments":{
        
      },
      "metadata":{
        "datalore":{
          "sheet_delimiter":false
        }
      }
    },
    {
      "cell_type":"markdown",
      "source":[
        "## <span style=\"color:orange\"> *Thank you very much for taking the time to go through my application and this code, I hope you have a fantastic day!* <\/span>"
      ],
      "attachments":{
        
      },
      "metadata":{
        "datalore":{
          "sheet_delimiter":false
        }
      }
    }
  ],
  "metadata":{
    
  },
  "nbformat":4,
  "nbformat_minor":0
}